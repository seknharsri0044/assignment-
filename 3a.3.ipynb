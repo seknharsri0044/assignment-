{
 "cells": [
  {
   "cell_type": "code",
   "execution_count": 5,
   "metadata": {},
   "outputs": [
    {
     "name": "stdout",
     "output_type": "stream",
     "text": [
      "count of Upper case characters :  3\n",
      "count of Lower case Characters :  12\n"
     ]
    }
   ],
   "source": [
    "s='The quick Brow Fox'\n",
    "def f(s):\n",
    "    d={\"UPPER_CASE\":0, \"LOWER_CASE\":0}\n",
    "    for c in s:\n",
    "        if c.isupper():\n",
    "           d[\"UPPER_CASE\"]= d[\"UPPER_CASE\"]+1\n",
    "        elif c.islower():\n",
    "           d[\"LOWER_CASE\"]=d[\"LOWER_CASE\"]+1\n",
    "    print (\"count of Upper case characters : \", d[\"UPPER_CASE\"])\n",
    "    print (\"count of Lower case Characters : \", d[\"LOWER_CASE\"])\n",
    "f(s)\n"
   ]
  },
  {
   "cell_type": "code",
   "execution_count": null,
   "metadata": {
    "collapsed": true
   },
   "outputs": [],
   "source": []
  },
  {
   "cell_type": "code",
   "execution_count": null,
   "metadata": {
    "collapsed": true
   },
   "outputs": [],
   "source": []
  }
 ],
 "metadata": {
  "kernelspec": {
   "display_name": "Python 3",
   "language": "python",
   "name": "python3"
  },
  "language_info": {
   "codemirror_mode": {
    "name": "ipython",
    "version": 3
   },
   "file_extension": ".py",
   "mimetype": "text/x-python",
   "name": "python",
   "nbconvert_exporter": "python",
   "pygments_lexer": "ipython3",
   "version": "3.6.3"
  }
 },
 "nbformat": 4,
 "nbformat_minor": 2
}
